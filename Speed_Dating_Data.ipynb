{
  "nbformat": 4,
  "nbformat_minor": 0,
  "metadata": {
    "colab": {
      "name": "Speed Dating Data.ipynb",
      "provenance": [],
      "authorship_tag": "ABX9TyOaSuCNLGQqYrkVs4+EmkcZ",
      "include_colab_link": true
    },
    "kernelspec": {
      "name": "python3",
      "display_name": "Python 3"
    },
    "language_info": {
      "name": "python"
    }
  },
  "cells": [
    {
      "cell_type": "markdown",
      "metadata": {
        "id": "view-in-github",
        "colab_type": "text"
      },
      "source": [
        "<a href=\"https://colab.research.google.com/github/BENMASSOUD/examen_tp/blob/main/Speed_Dating_Data.ipynb\" target=\"_parent\"><img src=\"https://colab.research.google.com/assets/colab-badge.svg\" alt=\"Open In Colab\"/></a>"
      ]
    },
    {
      "cell_type": "code",
      "execution_count": null,
      "metadata": {
        "id": "Nshyy_n42OSQ"
      },
      "outputs": [],
      "source": [
        "#j'ai utilisé le doc Word pour comprendre la definition des colonnes \n",
        "\n",
        "import seaborn as sns\n",
        "import pandas as pd\n",
        "import numpy as np\n",
        "import matplotlib.pyplot as plt\n",
        "\n",
        "from google.colab import drive\n",
        "drive.mount('/content/drive')\n",
        "df=pd.read_csv(\"/content/drive/MyDrive/Speed Dating Data.csv\", encoding='ISO 8859-1')\n",
        "\n",
        "\n",
        "df.head() # on affiche les 5 premieres lignes"
      ]
    },
    {
      "cell_type": "code",
      "source": [
        "df.dtypes"
      ],
      "metadata": {
        "id": "Uqu2oDJ_nUWU"
      },
      "execution_count": null,
      "outputs": []
    },
    {
      "cell_type": "code",
      "source": [
        "df.shape #dimension de notre dataset"
      ],
      "metadata": {
        "colab": {
          "base_uri": "https://localhost:8080/"
        },
        "id": "A5-cOiR8M4UT",
        "outputId": "e552eec7-3102-477f-88b2-1072e8ba4b7a"
      },
      "execution_count": null,
      "outputs": [
        {
          "output_type": "execute_result",
          "data": {
            "text/plain": [
              "(8378, 195)"
            ]
          },
          "metadata": {},
          "execution_count": 16
        }
      ]
    },
    {
      "cell_type": "code",
      "source": [
        "df.dtypes"
      ],
      "metadata": {
        "id": "pr4S1IdEwB4E"
      },
      "execution_count": null,
      "outputs": []
    },
    {
      "cell_type": "code",
      "source": [
        "df.describe() #afficher les details statistiques"
      ],
      "metadata": {
        "id": "3CyZxekuka9p"
      },
      "execution_count": null,
      "outputs": []
    },
    {
      "cell_type": "code",
      "source": [
        "#l'initail dataset contient 8378 lignes et 195 colonnes\n",
        "df.isnull().sum() # nombre des valeurs nulls\n"
      ],
      "metadata": {
        "id": "2VeFlZsw5D_3"
      },
      "execution_count": null,
      "outputs": []
    },
    {
      "cell_type": "code",
      "source": [
        "print(len(df['iid'].unique()))#le nombre total des participants"
      ],
      "metadata": {
        "id": "kWUYped2d-4x"
      },
      "execution_count": null,
      "outputs": []
    },
    {
      "cell_type": "code",
      "source": [
        "df.isnull().sum()/len(df)#les valeurs manquantes+ la proportion pour chaque colonne"
      ],
      "metadata": {
        "id": "TJStal5m5wQR"
      },
      "execution_count": null,
      "outputs": []
    },
    {
      "cell_type": "code",
      "source": [
        "#Suppression des colonnes unitiles : le nombre des valeurs nulls dans une colonne >1000, j'ai verifié sur le fichier excell avant de faire cette etape \n",
        "for column in df.columns:\n",
        "    if(df[column].isnull().sum())>1000:\n",
        "        df.drop([column],axis=1,inplace=True)"
      ],
      "metadata": {
        "id": "SO-fgCZV9OMG"
      },
      "execution_count": null,
      "outputs": []
    },
    {
      "cell_type": "code",
      "source": [
        "\n",
        "df.shape#la structure de notre dataset apres la suppression"
      ],
      "metadata": {
        "id": "IbT-mFGrDqEz",
        "colab": {
          "base_uri": "https://localhost:8080/"
        },
        "outputId": "2e46af9f-f74b-4cc6-ef35-2bd02b7c9ceb"
      },
      "execution_count": null,
      "outputs": [
        {
          "output_type": "execute_result",
          "data": {
            "text/plain": [
              "(8378, 101)"
            ]
          },
          "metadata": {},
          "execution_count": 35
        }
      ]
    },
    {
      "cell_type": "code",
      "source": [
        "df.columns[df.isnull().any()]#une liste de colonnes contenant des données manquantes\n",
        "df.isnull().sum()/len(df)\n"
      ],
      "metadata": {
        "id": "n5W1ZoaZEWjX"
      },
      "execution_count": null,
      "outputs": []
    },
    {
      "cell_type": "code",
      "source": [
        "df.isnull().any()#Vérifier si les colonnes contiennent  encore des valeur manquantes "
      ],
      "metadata": {
        "id": "itN1ru9HxWGY"
      },
      "execution_count": null,
      "outputs": []
    },
    {
      "cell_type": "code",
      "source": [
        "df.fillna(0)#remplir tout les valeurs manquantes par 0 \n",
        "df.columns"
      ],
      "metadata": {
        "colab": {
          "base_uri": "https://localhost:8080/"
        },
        "id": "Vru0sdky6kT0",
        "outputId": "d34aaf2a-1f7a-463b-c01f-2c23590ca734"
      },
      "execution_count": null,
      "outputs": [
        {
          "output_type": "execute_result",
          "data": {
            "text/plain": [
              "Index(['iid', 'id', 'gender', 'idg', 'condtn', 'wave', 'round', 'position',\n",
              "       'order', 'partner',\n",
              "       ...\n",
              "       'sinc1_2', 'intel1_2', 'fun1_2', 'amb1_2', 'shar1_2', 'attr3_2',\n",
              "       'sinc3_2', 'intel3_2', 'fun3_2', 'amb3_2'],\n",
              "      dtype='object', length=101)"
            ]
          },
          "metadata": {},
          "execution_count": 19
        }
      ]
    },
    {
      "cell_type": "code",
      "source": [
        "plt.figure(figsize=(6,2))\n",
        "sns.countplot(x='gender', data=df)"
      ],
      "metadata": {
        "id": "8CONZf_r9MgQ"
      },
      "execution_count": null,
      "outputs": []
    },
    {
      "cell_type": "code",
      "source": [
        "plt.figure(figsize = (15,10))\n",
        "sns.countplot(x = 'age', data= df, color = 'violet')\n",
        "plt.xlabel('Age des participants')\n",
        "plt.ylabel('Count')\n",
        "plt.title('Distribution age')\n",
        "plt.show()\n"
      ],
      "metadata": {
        "id": "UZJ1Cit08ZYB",
        "colab": {
          "base_uri": "https://localhost:8080/",
          "height": 621
        },
        "outputId": "a40043bc-1c82-46c8-b63e-bad5d6fc30b0"
      },
      "execution_count": null,
      "outputs": [
        {
          "output_type": "display_data",
          "data": {
            "image/png": "[encoded data removed]",
            "text/plain": [
              "<Figure size 1080x720 with 1 Axes>"
            ]
          },
          "metadata": {
            "needs_background": "light"
          }
        }
      ]
    },
    {
      "cell_type": "code",
      "source": [
        "#la plupart des particapnts sont des jeunes entre 22 et 30 "
      ],
      "metadata": {
        "id": "yRefXv-l-bz-"
      },
      "execution_count": null,
      "outputs": []
    },
    {
      "cell_type": "code",
      "source": [
        "g = sns.FacetGrid(df, hue='gender', height = 6)# analyse : l'importance de l'origine \n",
        "g.map(plt.hist, 'imprace', alpha= 0.7, bins=10)\n",
        "g.set_xlabels('Importance', fontsize=12)\n",
        "plt.subplots_adjust(top=0.9)\n",
        "g.fig.suptitle('importance de lorigine  pour les partipants ', fontsize=15)\n",
        "g.add_legend()\n",
        "#pour les femmes il important qu’une personne frequenté soit de la même origine raciale ou ethnique\n",
        "\n"
      ],
      "metadata": {
        "id": "pAI1iZEawaze"
      },
      "execution_count": null,
      "outputs": []
    },
    {
      "cell_type": "code",
      "source": [
        "g = sns.FacetGrid(df, hue='gender', height = 6)\n",
        "g.map(plt.hist, 'imprelig', alpha= 0.7, bins=10)\n",
        "g.set_xlabels('Importance', fontsize=12)\n",
        "plt.subplots_adjust(top=0.9)\n",
        "g.fig.suptitle('Importance de la religion pour les participants', fontsize=15)\n",
        "g.add_legend()\n",
        "#encore, pour les femmes c'est important de frequenté une personne de meme religion "
      ],
      "metadata": {
        "id": "7wuX5Kc1yRd0"
      },
      "execution_count": null,
      "outputs": []
    },
    {
      "cell_type": "code",
      "source": [
        "fig = plt.figure(figsize=(10,10))\n",
        "plt.suptitle(\"Que recherchez-VOUS chez un partenaire?\")\n",
        "ax1 = plt.subplot2grid((6,2), (0,0), rowspan =2, colspan=1)\n",
        "ax2 = plt.subplot2grid((6,2), (0,1), rowspan =2, colspan=2)\n",
        "ax3 = plt.subplot2grid((6,2), (2,0), rowspan =2, colspan=1)\n",
        "ax4 = plt.subplot2grid((6,2), (2,1), rowspan =2, colspan=2)\n",
        "ax5 = plt.subplot2grid((6,2), (4,0), rowspan =2, colspan=1)\n",
        "ax6 = plt.subplot2grid((6,2), (4,1), rowspan =2, colspan=2)\n",
        "\n",
        "\n",
        "ax1.hist(df['attr1_1'], 10,alpha=0.5, color = 'green', range=(0,100))\n",
        "ax1.set_title(\"Attractive\")\n",
        "ax1.axes.get_xaxis().set_visible(False)\n",
        "\n",
        "ax2.hist(df['sinc1_1'], alpha=0.5, color = 'pink',  range=(0,100))\n",
        "ax2.set_title(\"Sincere\")\n",
        "ax2.axes.get_xaxis().set_visible(False)\n",
        "\n",
        "ax3.hist(df['intel1_1'], alpha=0.5, color = 'blue',  range=(0,100))\n",
        "ax3.set_title(\"Intelligent\")\n",
        "ax3.axes.get_xaxis().set_visible(False)\n",
        "\n",
        "ax4.hist(df['fun1_1'], alpha=0.5, color = 'orange',  range=(0,100))\n",
        "ax4.set_title(\"Fun\")\n",
        "ax4.axes.get_xaxis().set_visible(False)\n",
        "\n",
        "ax5.hist(df['amb1_1'], alpha=0.5, color = 'yellow',  range=(0,100))\n",
        "ax5.set_title(\"Ambitious\")\n",
        "\n",
        "ax6.hist(df['shar1_1'], alpha=0.5, color = 'red',  range=(0,100))\n",
        "ax6.set_title(\"Shared Interests\")\n",
        "# dans la recherche d'un partenaire les criteres qui gagnent :sincere ,intelligent, fun "
      ],
      "metadata": {
        "id": "Bk-mdTb5poXi",
        "colab": {
          "base_uri": "https://localhost:8080/",
          "height": 683
        },
        "outputId": "6fa95b03-cb3a-4569-a74c-d0446999dbbb"
      },
      "execution_count": null,
      "outputs": [
        {
          "output_type": "execute_result",
          "data": {
            "text/plain": [
              "Text(0.5, 1.0, 'Shared Interests')"
            ]
          },
          "metadata": {},
          "execution_count": 14
        },
        {
          "output_type": "display_data",
          "data": {
            "image/png": "[encoded data removed]",
            "text/plain": [
              "<Figure size 720x720 with 6 Axes>"
            ]
          },
          "metadata": {
            "needs_background": "light"
          }
        }
      ]
    },
    {
      "cell_type": "code",
      "source": [
        ""
      ],
      "metadata": {
        "id": "ksTUu35Hr5Iq"
      },
      "execution_count": null,
      "outputs": []
    },
    {
      "cell_type": "code",
      "source": [
        "fig = plt.figure(figsize=(10,10))\n",
        "plt.suptitle(\"Que pensez-vous que VOTRE PARTENAIRE recherche?\")\n",
        "ax1 = plt.subplot2grid((6,2), (0,0), rowspan =2, colspan=1)\n",
        "ax2 = plt.subplot2grid((6,2), (0,1), rowspan =2, colspan=2)\n",
        "ax3 = plt.subplot2grid((6,2), (2,0), rowspan =2, colspan=1)\n",
        "ax4 = plt.subplot2grid((6,2), (2,1), rowspan =2, colspan=2)\n",
        "ax5 = plt.subplot2grid((6,2), (4,0), rowspan =2, colspan=1)\n",
        "ax6 = plt.subplot2grid((6,2), (4,1), rowspan =2, colspan=2)\n",
        "\n",
        "\n",
        "ax1.hist(df['attr2_1'], 10,alpha=0.5, color = 'violet',  range=(0,100))\n",
        "ax1.set_title(\"Attractive\")\n",
        "ax1.axes.get_xaxis().set_visible(False)\n",
        "\n",
        "ax2.hist(df['sinc2_1'], 10, alpha=0.5, color = 'indigo',  range=(0,100))\n",
        "ax2.set_title(\"Sincere\")\n",
        "ax2.axes.get_xaxis().set_visible(False)\n",
        "\n",
        "ax3.hist(df['intel2_1'], 10,alpha=0.5, color = 'blue',  range=(0,100))\n",
        "ax3.set_title(\"Intelligent\")\n",
        "ax3.axes.get_xaxis().set_visible(False)\n",
        "\n",
        "ax4.hist(df['fun2_1'], 10,alpha=0.5, color = 'green',  range=(0,100))\n",
        "ax4.set_title(\"Fun\")\n",
        "ax4.axes.get_xaxis().set_visible(False)\n",
        "\n",
        "ax5.hist(df['amb2_1'],10, alpha=0.5, color = 'yellow',  range=(0,100))\n",
        "ax5.set_title(\"Ambitious\")\n",
        "\n",
        "ax6.hist(df['shar2_1'],10, alpha=0.5, color = 'pink',  range=(0,100))\n",
        "ax6.set_title(\"Shared Interests\")\n",
        "# on pense que notre partenaire recherche :Attractive sincere et intelligent en premier temps"
      ],
      "metadata": {
        "id": "Oc8INB60sPeu"
      },
      "execution_count": null,
      "outputs": []
    },
    {
      "cell_type": "code",
      "source": [
        "objectif = ['Seemed like a fun night out','To meet new people','To get a date'\n",
        "        ,'Looking for a serious relationship','To say I did it','Other']\n",
        "plt.figure(figsize=(8,12))\n",
        "sn = sns.countplot(y='goal',data=df, hue='gender', palette=['green','blue'])\n",
        "sn.set(yticklabels=goals)\n",
        "sn.set\n",
        "sn = plt.yticks(rotation=0,fontsize=16)\n",
        "#l'objectif principal de hommes et femmes c'est de passer unesoirée amusante et  rencontrer de nouvelles personnes\n"
      ],
      "metadata": {
        "id": "INVnaQ-P-UjI"
      },
      "execution_count": null,
      "outputs": []
    },
    {
      "cell_type": "code",
      "source": [
        "#Par quelles activités sont-ils intéressés\n",
        "activities_interested=['sports','tvsports','exercise','dining','museums','art','hiking','gaming','clubbing','reading',\n",
        "                       'tv','theater','movies','concerts','music','shopping','yoga']\n",
        "temp = df.groupby(['gender']).mean()[activities_interested].values\n",
        "\n",
        "g = plt.figure(figsize=(15,15))\n",
        "g = plt.barh(np.arange(0,2*temp.shape[1],2)-0.2,temp[0,:], height=0.5,color=[0,0,1],alpha=0.5,label='Female')\n",
        "g = plt.barh(np.arange(0,2*temp.shape[1],2)+0.2,temp[1,:], height=0.5,color=[0,1,0],alpha=0.5,label='Male')\n",
        "g = plt.yticks(np.arange(0,2*temp.shape[1],2)+0.2,activities_interested,fontsize=16)\n",
        "g = plt.ylim(-1,2*temp.shape[1]+1)\n",
        "g = plt.legend(loc=0,fontsize=16)"
      ],
      "metadata": {
        "colab": {
          "base_uri": "https://localhost:8080/",
          "height": 863
        },
        "id": "l_47xXhOSHEp",
        "outputId": "d6079979-5ee0-4fcc-a675-5d9ffc9743ff"
      },
      "execution_count": null,
      "outputs": [
        {
          "output_type": "display_data",
          "data": {
            "image/png": "[encoded data removed]",
            "text/plain": [
              "<Figure size 1080x1080 with 1 Axes>"
            ]
          },
          "metadata": {
            "needs_background": "light"
          }
        }
      ]
    },
    {
      "cell_type": "code",
      "source": [
        "#Quel activite qui rend les hommes plus susceptibles d'obtenir un match\n",
        "male_data = df[df['gender']==1].groupby('iid').sum()\n",
        "male_data = male_data[activities_interested+['match']]\n",
        "gotMatch = np.cast['int16'](male_data['match'])\n",
        "g = plt.figure(figsize=(10,10))\n",
        "g = plt.hist(gotMatch,range(20))\n",
        "g = plt.xlabel('Number of Matches pour hommes',fontsize=16)\n"
      ],
      "metadata": {
        "colab": {
          "base_uri": "https://localhost:8080/",
          "height": 611
        },
        "id": "uOdc8b55TUFZ",
        "outputId": "c2e0c36b-8568-4872-d073-7122505f0506"
      },
      "execution_count": null,
      "outputs": [
        {
          "output_type": "display_data",
          "data": {
            "image/png": "[encoded data removed]",
            "text/plain": [
              "<Figure size 720x720 with 1 Axes>"
            ]
          },
          "metadata": {
            "needs_background": "light"
          }
        }
      ]
    },
    {
      "cell_type": "code",
      "source": [
        "#Quel activite qui rend les femmes plus susceptibles d'obtenir un match\n",
        "female_data = df[df['gender']==0].groupby('iid').sum()\n",
        "female_data = female_data[activities_interested+['match']]\n",
        "gotMatch = np.cast['int16'](female_data['match'])\n",
        "g = plt.figure(figsize=(10,10))\n",
        "g = plt.hist(gotMatch,range(20))\n",
        "g = plt.xlabel('Number of Matches for Girls',fontsize=16)"
      ],
      "metadata": {
        "colab": {
          "base_uri": "https://localhost:8080/",
          "height": 611
        },
        "id": "QQHIX_RLaUB2",
        "outputId": "b54decb2-7eb6-4fdd-da4b-f5728c3f1653"
      },
      "execution_count": null,
      "outputs": [
        {
          "output_type": "display_data",
          "data": {
            "image/png": "[encoded data removed]",
            "text/plain": [
              "<Figure size 720x720 with 1 Axes>"
            ]
          },
          "metadata": {
            "needs_background": "light"
          }
        }
      ]
    },
    {
      "cell_type": "markdown",
      "source": [
        "Conclusion :\n",
        "-pour les femmes il important qu’une personne frequenté soit de la même origine raciale ou ethnique\n",
        "-les femmes s'interessent beaucoup a la religion ,c'est important de frequenté une personne de meme religion \n",
        "-dans la recherche d'un partenaire les criteres qui gagnent :sincere ,intelligent, fun \n",
        "-ce qu'on pense que c'est que  notre partenaire recherche :Attractive sincere \n",
        "-l'objectif principal de hommes et femmes c'est de passer unesoirée amusante et  rencontrer de nouvelles personnes\n"
      ],
      "metadata": {
        "id": "2q9deRkD_bW8"
      }
    }
  ]
}